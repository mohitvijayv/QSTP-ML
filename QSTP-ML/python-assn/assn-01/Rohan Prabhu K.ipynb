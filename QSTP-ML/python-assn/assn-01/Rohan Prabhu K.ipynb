{
 "cells": [
  {
   "cell_type": "markdown",
   "metadata": {},
   "source": [
    "# Assignment 1: Strings, Lists and Files\n",
    "\n",
    "This assignment is based on basic python operations and to help you get a better understanding of lists, dictionaries, string operations, file I/O and other basic python operations. All the best!"
   ]
  },
  {
   "cell_type": "markdown",
   "metadata": {},
   "source": [
    "**Q1) Given an positive integer, write a function to print the smallest integer that can be formed by rearranging the digits of the given number.**\n",
    "\n",
    "For e.g.:\n",
    "```\n",
    "    >>> least_int(54235)\n",
    "    23455\n",
    "```"
   ]
  },
  {
   "cell_type": "code",
   "execution_count": 32,
   "metadata": {
    "collapsed": false
   },
   "outputs": [
    {
     "name": "stdout",
     "output_type": "stream",
     "text": [
      "23455\n"
     ]
    }
   ],
   "source": [
    "def least_int(num):\n",
    "    #write your code here\n",
    "    digits=[int(x) for x in str(num)]\n",
    "    num_len=len(digits)\n",
    "    result=0\n",
    "    digits.sort()\n",
    "    for i in digits:\n",
    "        result=result*10\n",
    "        result=result+i\n",
    "    print(result)\n",
    "least_int(54235)"
   ]
  },
  {
   "cell_type": "markdown",
   "metadata": {},
   "source": [
    "<hr/>\n",
    "\n",
    "**Q2) Given a string consisting of words and whitespaces, write a function to print a word consisting of the last letters of all the words beginning with the letter 'a'. Assume that all the alphabets in the strings are lower case.**\n",
    "\n",
    "For e.g.: \n",
    "```\n",
    ">>> mystring = 'apple banana aeroplace machine learning python append'\n",
    ">>> function_a(mystring)\n",
    "eed\n",
    "```"
   ]
  },
  {
   "cell_type": "code",
   "execution_count": 20,
   "metadata": {
    "collapsed": false
   },
   "outputs": [
    {
     "name": "stdout",
     "output_type": "stream",
     "text": [
      "eed"
     ]
    }
   ],
   "source": [
    "def function_a(string1):\n",
    "    #write your code here\n",
    "    words=[x for x in string1.split(\" \")]\n",
    "    rev_word=[\"\".join(reversed(x)) for x in words]\n",
    "    for i in range(0,len(words),1):\n",
    "        x=words[i][0]\n",
    "        y=rev_word[i][0]\n",
    "        if x=='a':\n",
    "            print(y,end=\"\")\n",
    "function_a(\"apple banana aeroplace machine learning python append\")"
   ]
  },
  {
   "cell_type": "markdown",
   "metadata": {},
   "source": [
    "***\n",
    "**Q3) Given a string in the form of a sentence, remove all duplicate words from the sentence.(Order of words in the return value can differ from original)**\n",
    "For e.g.:\n",
    "```\n",
    ">>> mystr = 'Vedang Pro is Pro at ML'\n",
    ">>> remove_dup(mystr)\n",
    "'Vedang at ML Pro is'\n",
    "```"
   ]
  },
  {
   "cell_type": "code",
   "execution_count": 23,
   "metadata": {
    "collapsed": false
   },
   "outputs": [
    {
     "name": "stdout",
     "output_type": "stream",
     "text": [
      "['Vedang', 'Pro', 'is', 'at', 'ML']\n"
     ]
    }
   ],
   "source": [
    "def remove_dup(mystring):\n",
    "    words=[x for x in mystring.split(\" \")]\n",
    "    temp_list=[]\n",
    "    for x in words:\n",
    "        if x in temp_list:\n",
    "            pass\n",
    "        else:\n",
    "            temp_list.append(x)\n",
    "    return temp_list\n",
    "print(remove_dup(\"Vedang Pro is Pro at ML\"))"
   ]
  },
  {
   "cell_type": "markdown",
   "metadata": {},
   "source": [
    "______\n",
    "**Q4) Write a single line of code to check if a given string ```mystring``` is a palindrome or not.**\n",
    "For e.g.:\n",
    "```\n",
    ">>> mystring = 'SatanoscillatemymetallicsonataS'\n",
    "#your code\n",
    "```"
   ]
  },
  {
   "cell_type": "code",
   "execution_count": 64,
   "metadata": {
    "collapsed": false
   },
   "outputs": [
    {
     "data": {
      "text/plain": [
       "True"
      ]
     },
     "execution_count": 64,
     "metadata": {},
     "output_type": "execute_result"
    }
   ],
   "source": [
    "mystring = 'SatanoscillatemymetallicsonataS' #give any random string\n",
    "mystring[::]==mystring[::-1]"
   ]
  },
  {
   "cell_type": "markdown",
   "metadata": {},
   "source": [
    "___\n",
    "**Q5) Given a list of integers, create a new list where the i'th entry in the list is the average of previous i - 1 entries in the original list.**\n",
    "For e.g.:\n",
    "```\n",
    ">>> a = [1, 2, 3, 4, 5]\n",
    ">>> list_of_avgs(a)\n",
    "[1.0, 1.5, 2.0, 2.5, 3.0]\n",
    "```"
   ]
  },
  {
   "cell_type": "code",
   "execution_count": 27,
   "metadata": {
    "collapsed": false
   },
   "outputs": [
    {
     "name": "stdout",
     "output_type": "stream",
     "text": [
      "[1.0, 1.5, 2.0, 2.5, 3.0]\n"
     ]
    },
    {
     "data": {
      "text/plain": [
       "[1.0, 1.5, 2.0, 2.5, 3.0]"
      ]
     },
     "execution_count": 27,
     "metadata": {},
     "output_type": "execute_result"
    }
   ],
   "source": [
    "def list_of_avgs(a):\n",
    "    sum_var=0\n",
    "    result=[]\n",
    "    for i in range(len(a)):\n",
    "        sum_var=sum_var+a[i]\n",
    "        result.append(sum_var/(i+1))\n",
    "    print(result)\n",
    "    return result\n",
    "list_of_avgs([1, 2, 3, 4, 5])"
   ]
  },
  {
   "cell_type": "markdown",
   "metadata": {},
   "source": [
    "___\n",
    "**Q6) Given a list of random integers, modify the list such that all the elements in even places are in ascending order and all those in the odd places appear in a decreasing order. Assume labeling of the places start from the number zero.**\n",
    "\n",
    "For e.g.\n",
    "```\n",
    ">>> a = [1, 8, 4, 5, 2, 5, 3, 9, 4]\n",
    ">>> asc_desc_list(a)\n",
    "[1, 9, 2, 8, 3, 5, 4, 5, 4]\n",
    "```"
   ]
  },
  {
   "cell_type": "code",
   "execution_count": 55,
   "metadata": {
    "collapsed": false
   },
   "outputs": [
    {
     "data": {
      "text/plain": [
       "[1, 9, 2, 8, 3, 5, 4, 5, 4]"
      ]
     },
     "execution_count": 55,
     "metadata": {},
     "output_type": "execute_result"
    }
   ],
   "source": [
    "def asc_decc_list(a):\n",
    "    #write your code here\n",
    "    odd_list=[a[i] for i in range(len(a)) if i%2==1]\n",
    "    odd_list.sort(reverse=True)\n",
    "    even_list=[a[i] for i in range(len(a)) if i%2==0]\n",
    "    even_list.sort()\n",
    "    result=[]\n",
    "    for i in range(len(a)):\n",
    "        if i%2==0:\n",
    "            result.append(even_list[i//2])\n",
    "        else:\n",
    "            result.append(odd_list[i//2])\n",
    "    return result\n",
    "\n",
    "asc_decc_list([1, 8, 4, 5, 2, 5, 3, 9, 4])"
   ]
  },
  {
   "cell_type": "markdown",
   "metadata": {},
   "source": [
    "___\n",
    "**Q7) Write an iterator function to return the elements of the Fibonacci series.**"
   ]
  },
  {
   "cell_type": "code",
   "execution_count": 6,
   "metadata": {
    "collapsed": false
   },
   "outputs": [
    {
     "data": {
      "text/plain": [
       "[0, 1, 1, 2, 3, 5, 8, 13, 21, 34]"
      ]
     },
     "execution_count": 6,
     "metadata": {},
     "output_type": "execute_result"
    }
   ],
   "source": [
    "def Fibonacci(n):\n",
    "    a0 = 0\n",
    "    a1 = 1\n",
    "    count = 0\n",
    "    result=[]\n",
    "    result.append(a0)\n",
    "    while count<n-1:\n",
    "        result.append(a1)\n",
    "        temp = a0 + a1\n",
    "        a0 = a1\n",
    "        a1 = temp\n",
    "        count += 1\n",
    "    return result\n",
    "Fibonacci(10)"
   ]
  },
  {
   "cell_type": "markdown",
   "metadata": {},
   "source": [
    "---\n",
    "**Q8) Print all the sublists of a list, seperated by a comma and a whitespace.**\n",
    "For e.g.:\n",
    "```\n",
    ">>> a = [1, 2]\n",
    ">>> sub_lists(a)\n",
    "[], [1], [1, 2] [2][\n",
    "```"
   ]
  },
  {
   "cell_type": "code",
   "execution_count": 47,
   "metadata": {
    "collapsed": false
   },
   "outputs": [
    {
     "name": "stdout",
     "output_type": "stream",
     "text": [
      "[[], [1], [1, 2], [2]]\n"
     ]
    }
   ],
   "source": [
    "def sub_lists(a):\n",
    "    result=[[]]\n",
    "    for i in range (len(a)):\n",
    "        for j in range (i+1,len(a),1):\n",
    "            temp_list=a[i:j]\n",
    "            result.append(temp_list)\n",
    "    return result\n",
    "print(sub_lists([1,2,3]))\n"
   ]
  },
  {
   "cell_type": "markdown",
   "metadata": {},
   "source": [
    "---\n",
    "**Q9) Write two functions, each of which take a list as an argument.  The first function modifies the list by appending the sum of entries of the list passed as an argument. The second function reassigns a new list to the argument passed, where each entry in the new list is one more than the corresponding entry given as an argument. Is the change reflected outside the functions in both cases? Why/Why not?**\n",
    "Note: For reassign_list(a), you have to reassign a new list to the argument, and not change the existing list."
   ]
  },
  {
   "cell_type": "code",
   "execution_count": 26,
   "metadata": {
    "collapsed": false
   },
   "outputs": [
    {
     "name": "stdout",
     "output_type": "stream",
     "text": [
      "[1, 2, 3]\n",
      "[1, 2, 3]\n"
     ]
    }
   ],
   "source": [
    "def modify_list(a):\n",
    "    #write your code here\n",
    "    pass\n",
    "\n",
    "def reassign_list(a):\n",
    "    #write your code here\n",
    "    pass\n",
    "a = [1, 2, 3]\n",
    "modify_list(a)\n",
    "print(a)\n",
    "\n",
    "a = [1, 2, 3]\n",
    "reassign_list(a)\n",
    "print(a)"
   ]
  },
  {
   "cell_type": "markdown",
   "metadata": {},
   "source": [
    "---\n",
    "**Q10) Given a string, return a dictionary consisting of each character in the string and the position at which it occurs. (Positions are to be taken as keys, and position numbering starts from 1)**\n",
    "\n",
    "For e.g.)\n",
    "\n",
    "```\n",
    ">>> a = 'Machine Learning'\n",
    ">>> char_position(a)\n",
    "{1: 'M', 2: 'a', 3: 'c', 4: 'h', 5: 'i', 6: 'n', 7: 'e', 9: 'L', 10: 'e', 11: 'a', 12: 'r', 13: 'n', 14: 'i', 15: 'n', 16: 'g'}\n",
    "```"
   ]
  },
  {
   "cell_type": "code",
   "execution_count": 60,
   "metadata": {
    "collapsed": false
   },
   "outputs": [
    {
     "name": "stdout",
     "output_type": "stream",
     "text": [
      "{1: 'M', 2: 'a', 3: 'c', 4: 'h', 5: 'i', 6: 'n', 7: 'e', 8: ' ', 9: 'L', 10: 'e', 11: 'a', 12: 'r', 13: 'n', 14: 'i', 15: 'n', 16: 'g'}\n"
     ]
    }
   ],
   "source": [
    "def char_position(a):\n",
    "    dict_char={i+1:a[i] for i in range(len(a))}\n",
    "    return dict_char\n",
    "print(char_position(\"Machine Learning\"))"
   ]
  },
  {
   "cell_type": "markdown",
   "metadata": {},
   "source": [
    "---\n",
    "\n",
    "**Q11) Given a string, arrange the characters in increasing order of their frequency at which they appear(Ignore any whitespaces)**\n",
    "\n",
    "For e.g.:\n",
    "```\n",
    ">>> a = 'ifadhaiusbdufbugfsdbfubgsidf'\n",
    ">>> sort_by_freq(a)\n",
    "'haaggiiisssdddduuuubbbbfffff'\n",
    "```"
   ]
  },
  {
   "cell_type": "code",
   "execution_count": 47,
   "metadata": {
    "collapsed": false
   },
   "outputs": [
    {
     "name": "stdout",
     "output_type": "stream",
     "text": [
      "haaggiiisssbbbbdddduuuufffff5\n"
     ]
    }
   ],
   "source": [
    "def sort_by_freq(a):\n",
    "    import string\n",
    "    char_freq = dict.fromkeys(string.ascii_lowercase,0)\n",
    "    for x in a:\n",
    "        char_freq[x]=char_freq[x]+1\n",
    "    \n",
    "    for key in char_freq:\n",
    "        min_freq=char_freq[key]\n",
    "        for key2 in char_freq:\n",
    "            if char_freq[key2]>min_freq and min_freq==0:\n",
    "                min_freq=char_freq[key2]\n",
    "            elif char_freq[key2]<min_freq and char_freq[key2]>0:\n",
    "                min_freq=char_freq[key2]\n",
    "\n",
    "        for key2 in char_freq:\n",
    "            if char_freq[key2]==min_freq:\n",
    "                for i in range(char_freq[key2]):\n",
    "                    print(key2,end='')\n",
    "                char_freq[key2]=0\n",
    "                break\n",
    "\n",
    "sort_by_freq(\"ifadhaiusbdufbugfsdbfubgsidf\")\n",
    "############################\n",
    "#Q12\n",
    "n=int(input())\n",
    "read_file = open(\"myfile.txt\",\"r+\")\n",
    "words=[x for x in read_file.read().split(\" \")]\n",
    "write_file = open(words[n-1], \"w+\")\n",
    "for i in range(1,len(words),1):\n",
    "    write_file.write(words[len((words))-i-1])\n",
    "    write_file.write(\" \")\n",
    "write_file.close()"
   ]
  },
  {
   "cell_type": "markdown",
   "metadata": {},
   "source": [
    "---\n",
    "---\n",
    "**Q12)**\n",
    "\n",
    "**A) Create a file called myfile.txt**\n",
    "\n",
    "**B) Enter some random paragraph into the file.**\n",
    "\n",
    "**C) Take an integer input n from the user. Create a file with the name as the nth word in myfile.txt.(Assume that n is less than the number of words in your file.)**\n",
    "\n",
    "**D) Enter the paragraph from myfile.txt into your new file, in reverse order. \n",
    "Note: In part (D) only the order of the words should change, the words are not reversed in themselves.**"
   ]
  }
 ],
 "metadata": {
  "kernelspec": {
   "display_name": "Python 3",
   "language": "python",
   "name": "python3"
  },
  "language_info": {
   "codemirror_mode": {
    "name": "ipython",
    "version": 3
   },
   "file_extension": ".py",
   "mimetype": "text/x-python",
   "name": "python",
   "nbconvert_exporter": "python",
   "pygments_lexer": "ipython3",
   "version": "3.6.3"
  }
 },
 "nbformat": 4,
 "nbformat_minor": 2
}
