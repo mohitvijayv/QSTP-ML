{
 "cells": [
  {
   "cell_type": "markdown",
   "metadata": {},
   "source": [
    "# Assignment 1: Strings, Lists and Files\n",
    "\n",
    "This assignment is based on basic python operations and to help you get a better understanding of lists, dictionaries, string operations, file I/O and other basic python operations. All the best!"
   ]
  },
  {
   "cell_type": "markdown",
   "metadata": {},
   "source": [
    "**Q1) Given an positive integer, write a function to print the smallest integer that can be formed by rearranging the digits of the given number.**\n",
    "\n",
    "For e.g.:\n",
    "```\n",
    "    >>> least_int(54235)\n",
    "    23455\n",
    "```"
   ]
  },
  {
   "cell_type": "code",
   "execution_count": null,
   "metadata": {
    "collapsed": true
   },
   "outputs": [],
   "source": [
    "def least_int(num):\n",
    "    #write your code here\n",
    "    a= []\n",
    "    a = list(map(int, str(num)))\n",
    "    for i in range(len(a)):\n",
    "        for j in range(i,len(a)):\n",
    "            if a[i]>a[j]:\n",
    "                temp = a[j]\n",
    "                temp1 = a[i]\n",
    "                a[i]= temp\n",
    "                a[j] = temp1\n",
    "    a = list(map(str, a))\n",
    "    a = ''.join(a)\n",
    "    print(a)\n",
    "    pass"
   ]
  },
  {
   "cell_type": "markdown",
   "metadata": {},
   "source": [
    "<hr/>\n",
    "\n",
    "**Q2) Given a string consisting of words and whitespaces, write a function to print a word consisting of the last letters of all the words beginning with the letter 'a'. Assume that all the alphabets in the strings are lower case.**\n",
    "\n",
    "For e.g.: \n",
    "```\n",
    ">>> mystring = 'apple banana aeroplace machine learning python append'\n",
    ">>> function_a(mystring)\n",
    "eed\n",
    "```"
   ]
  },
  {
   "cell_type": "code",
   "execution_count": null,
   "metadata": {
    "collapsed": true
   },
   "outputs": [],
   "source": [
    "def function_a(string1):\n",
    "    #write your code here\n",
    "    #string1=\"apple banana aeroplace machine learning python append\"\n",
    "    a = string1\n",
    "    print(a)\n",
    "    b=[]\n",
    "    count = 0\n",
    "    print(len(a))\n",
    "    for i in range(len(a)):\n",
    "        #print(i, end=' ')\n",
    "        #print(a[i])\n",
    "        if ((i == 0) and (a[i] == 'a')):\n",
    "            j=i\n",
    "            #print(a[i])\n",
    "            while a[j] != ' ':\n",
    "                #print(j, end=' ')\n",
    "                #print(a[j])\n",
    "                j+=1\n",
    "                if a[j+1] == ' ':\n",
    "                    print(j, end=' ')\n",
    "                    print(a[j])\n",
    "                    temp = a[j]\n",
    "                    b.append(temp)\n",
    "                    count = count+1\n",
    "                    j+=1\n",
    "                    print(b)\n",
    "                    i=j\n",
    "                    break\n",
    "        if a[i] == ' ' and a[i+1] == 'a' and i != len(a)-2:\n",
    "            j=i+1\n",
    "            print(j)\n",
    "            while a[j] != ' ' or j<len(a)-1:\n",
    "                #print(j, end=' ')\n",
    "                #print(a[j])\n",
    "                if j< len(a)-1:\n",
    "                    j+=1\n",
    "                    #print(j)\n",
    "                #print(j)\n",
    "                if j < len(a)-2:\n",
    "                    if a[j+1] == ' ' or a[j] == len(a)-1 :\n",
    "                        print(j, end=' ')\n",
    "                        print(a[j])\n",
    "                        temp = a[j]\n",
    "                        b.append(temp)\n",
    "                        count = count+1\n",
    "                        j+=1\n",
    "                        print(b)\n",
    "                        i=j\n",
    "                        break            \n",
    "                    \n",
    "    pass\n",
    "function_a(\"apple banana aeroplace machine learning python append\")"
   ]
  },
  {
   "cell_type": "markdown",
   "metadata": {},
   "source": [
    "***\n",
    "**Q3) Given a string in the form of a sentence, remove all duplicate words from the sentence.(Order of words in the return value can differ from original)**\n",
    "For e.g.:\n",
    "```\n",
    ">>> mystr = 'Vedang Pro is Pro at ML'\n",
    ">>> remove_dup(mystr)\n",
    "'Vedang at ML Pro is'\n",
    "```"
   ]
  },
  {
   "cell_type": "code",
   "execution_count": null,
   "metadata": {
    "collapsed": true
   },
   "outputs": [],
   "source": [
    "def remove_dup(mystring):\n",
    "    #write your code here\n",
    "    a = mystring\n",
    "    a = a.split(\" \")\n",
    "    #print(len(a))\n",
    "    b = []\n",
    "    for i in range(len(a)):\n",
    "        for j in range(i,len(a)):\n",
    "            for k in range(len(a[i])):\n",
    "                #print(i, j, a, c)\n",
    "                if len(a[i]) == len(a[j]) and i != j:\n",
    "                    if a[i][k] != a[j][k]:\n",
    "                        break\n",
    "                    else:\n",
    "                        if k == len(a[i])-1:\n",
    "                            b.append(a[i])\n",
    "                            #print(b)\n",
    "                        else:\n",
    "                            continue                 \n",
    "    print(b)\n",
    "    for i in range(len(b)):\n",
    "        for j in range(len(a)):\n",
    "            if b[i] == a[j]:\n",
    "                a.remove(a[j])\n",
    "                break\n",
    "    \n",
    "    a = ' '.join(a)\n",
    "    print(a)\n",
    "    pass\n",
    "remove_dup(\"Vedang Pro is Pro at ML\")"
   ]
  },
  {
   "cell_type": "markdown",
   "metadata": {},
   "source": [
    "______\n",
    "**Q4) Write a single line of code to check if a given string ```mystring``` is a palindrome or not.**\n",
    "For e.g.:\n",
    "```\n",
    ">>> mystring = 'SatanoscillatemymetallicsonataS'\n",
    "#your code\n",
    "```"
   ]
  },
  {
   "cell_type": "code",
   "execution_count": null,
   "metadata": {
    "collapsed": true
   },
   "outputs": [],
   "source": [
    "mystring = 'SatanoscillatemymetallicsonataS' #give any random string\n",
    "#write your code here\n",
    "def is_palindrome(mystring):\n",
    "    a = mystring\n",
    "    for i in range(int(len(a)/2)):\n",
    "        #print(\"checck\")\n",
    "        j = len(a) - i -1\n",
    "        if a[i] == a[j]:\n",
    "         #   print(\"c1\")\n",
    "            if i == int(len(a)/2)-1:\n",
    "                print(\"Palindrome\")\n",
    "                break\n",
    "        else:\n",
    "            print(\"Not a Palindrome\")\n",
    "            break\n",
    "is_palindrome(mystring)"
   ]
  },
  {
   "cell_type": "markdown",
   "metadata": {},
   "source": [
    "___\n",
    "**Q5) Given a list of integers, create a new list where the i'th entry in the list is the average of previous i - 1 entries in the original list.**\n",
    "For e.g.:\n",
    "```\n",
    ">>> a = [1, 2, 3, 4, 5]\n",
    ">>> list_of_avgs(a)\n",
    "[1.0, 1.5, 2.0, 2.5, 3.0]\n",
    "```"
   ]
  },
  {
   "cell_type": "code",
   "execution_count": null,
   "metadata": {
    "collapsed": true
   },
   "outputs": [],
   "source": [
    "a = [1,2,3,4,5]\n",
    "def list_of_avgs(a):\n",
    "    #write your code here\n",
    "    list_of_avg=[]\n",
    "    for i in range(len(a)):\n",
    "        avg = 0\n",
    "        for j in range(i+1):\n",
    "            avg += a[j]/(i+1)\n",
    "        list_of_avg.append(avg)\n",
    "    print(list_of_avg)\n",
    "    pass\n",
    "list_of_avgs(a)"
   ]
  },
  {
   "cell_type": "markdown",
   "metadata": {},
   "source": [
    "___\n",
    "**Q6) Given a list of random integers, modify the list such that all the elements in even places are in ascending order and all those in the odd places appear in a decreasing order. Assume labeling of the places start from the number zero.**\n",
    "\n",
    "For e.g.\n",
    "```\n",
    ">>> a = [1, 8, 4, 5, 2, 5, 3, 9, 4]\n",
    ">>> asc_desc_list(a)\n",
    "[1, 9, 2, 8, 3, 5, 4, 5, 4]\n",
    "```"
   ]
  },
  {
   "cell_type": "code",
   "execution_count": null,
   "metadata": {
    "collapsed": true
   },
   "outputs": [],
   "source": [
    "a = [1, 8, 4, 5, 2, 5, 3, 9, 4]\n",
    "def asc_decc_list(a):\n",
    "    #write your code here\n",
    "    b = [None]*len(a)\n",
    "    #print(b)\n",
    "    list1 = a\n",
    "    even = []\n",
    "    odd = []\n",
    "    for i in range(len(a)):\n",
    "        if (i+1) % 2 == 0:\n",
    "             even.append(a[i])\n",
    "        else:\n",
    "            odd.append(a[i])\n",
    "    for i in range(len(even)-1):\n",
    "        for j in range(i+1,len(even)):\n",
    "            if even[i]>even[j]:\n",
    "                continue\n",
    "            else:\n",
    "                temp = even[j]\n",
    "                temp2 = even[i]\n",
    "                even[i] = temp\n",
    "                even[j] = temp2\n",
    "    for i in range(len(odd)-1):\n",
    "        for j in range(i+1,len(odd)):\n",
    "            if odd[i]>odd[j]:\n",
    "                temp = odd[j]\n",
    "                temp2 = odd[i]\n",
    "                odd[i] = temp\n",
    "                odd[j] = temp2\n",
    "            else:\n",
    "                continue\n",
    "\n",
    "    #print(even, odd)\n",
    "    for i in range(len(odd)):\n",
    "        j = 2*i\n",
    "        b[j] = odd[i]\n",
    "    for i in range(len(even)):\n",
    "        j = 2*i +1 \n",
    "        b[j] = even[i]\n",
    "    pass\n",
    "    print(b)\n",
    "asc_decc_list(a)"
   ]
  },
  {
   "cell_type": "markdown",
   "metadata": {},
   "source": [
    "___\n",
    "**Q7) Write an iterator function to return the elements of the Fibonacci series.**"
   ]
  },
  {
   "cell_type": "code",
   "execution_count": null,
   "metadata": {
    "collapsed": true
   },
   "outputs": [],
   "source": [
    "#write your code here\n",
    "n = int(input())\n",
    "b = [None] * n\n",
    "initial1= 0\n",
    "initial2 = 1\n",
    "for i in range(n):\n",
    "    if i == 0:\n",
    "        b[i] = initial1\n",
    "    elif i == 1:\n",
    "        b[i] = initial2\n",
    "    else:\n",
    "        b[i] = b[i-1] + b[i-2]\n",
    "print(b)"
   ]
  },
  {
   "cell_type": "markdown",
   "metadata": {},
   "source": [
    "---\n",
    "**Q8) Print all the sublists of a list, seperated by a comma and a whitespace.**\n",
    "For e.g.:\n",
    "```\n",
    ">>> a = [1, 2]\n",
    ">>> sub_lists(a)\n",
    "[], [1], [1, 2] [2][\n",
    "```"
   ]
  },
  {
   "cell_type": "code",
   "execution_count": 5,
   "metadata": {},
   "outputs": [
    {
     "ename": "NameError",
     "evalue": "name 'sl' is not defined",
     "output_type": "error",
     "traceback": [
      "\u001b[0;31m--------------------------------------------------------------------------\u001b[0m",
      "\u001b[0;31mNameError\u001b[0m                                Traceback (most recent call last)",
      "\u001b[0;32m<ipython-input-5-110bee7bee90>\u001b[0m in \u001b[0;36m<module>\u001b[0;34m()\u001b[0m\n\u001b[1;32m     14\u001b[0m     \u001b[0mprint\u001b[0m\u001b[0;34m(\u001b[0m\u001b[0msl\u001b[0m\u001b[0;34m)\u001b[0m\u001b[0;34m\u001b[0m\u001b[0m\n\u001b[1;32m     15\u001b[0m     \u001b[0;32mpass\u001b[0m\u001b[0;34m\u001b[0m\u001b[0m\n\u001b[0;32m---> 16\u001b[0;31m \u001b[0msub_lists\u001b[0m\u001b[0;34m(\u001b[0m\u001b[0;34m[\u001b[0m\u001b[0;36m1\u001b[0m\u001b[0;34m,\u001b[0m \u001b[0;36m2\u001b[0m\u001b[0;34m]\u001b[0m\u001b[0;34m)\u001b[0m\u001b[0;34m\u001b[0m\u001b[0m\n\u001b[0m",
      "\u001b[0;32m<ipython-input-5-110bee7bee90>\u001b[0m in \u001b[0;36msub_lists\u001b[0;34m(a)\u001b[0m\n\u001b[1;32m      2\u001b[0m     \u001b[0;31m#write your code here\u001b[0m\u001b[0;34m\u001b[0m\u001b[0;34m\u001b[0m\u001b[0m\n\u001b[1;32m      3\u001b[0m     \u001b[0mn\u001b[0m \u001b[0;34m=\u001b[0m \u001b[0;36m2\u001b[0m \u001b[0;34m**\u001b[0m \u001b[0mlen\u001b[0m\u001b[0;34m(\u001b[0m\u001b[0ma\u001b[0m\u001b[0;34m)\u001b[0m\u001b[0;34m\u001b[0m\u001b[0m\n\u001b[0;32m----> 4\u001b[0;31m     \u001b[0msl\u001b[0m\u001b[0;34m[\u001b[0m\u001b[0;36m0\u001b[0m\u001b[0;34m]\u001b[0m \u001b[0;34m=\u001b[0m \u001b[0;34m[\u001b[0m\u001b[0;34m]\u001b[0m\u001b[0;34m\u001b[0m\u001b[0m\n\u001b[0m\u001b[1;32m      5\u001b[0m     \u001b[0;32mfor\u001b[0m \u001b[0mi\u001b[0m \u001b[0;32min\u001b[0m \u001b[0mrange\u001b[0m\u001b[0;34m(\u001b[0m\u001b[0mlen\u001b[0m\u001b[0;34m(\u001b[0m\u001b[0ma\u001b[0m\u001b[0;34m)\u001b[0m\u001b[0;34m-\u001b[0m\u001b[0;36m1\u001b[0m\u001b[0;34m)\u001b[0m\u001b[0;34m:\u001b[0m\u001b[0;34m\u001b[0m\u001b[0m\n\u001b[1;32m      6\u001b[0m         \u001b[0mb\u001b[0m\u001b[0;34m=\u001b[0m\u001b[0;34m[\u001b[0m\u001b[0;34m]\u001b[0m\u001b[0;34m\u001b[0m\u001b[0m\n",
      "\u001b[0;31mNameError\u001b[0m: name 'sl' is not defined"
     ]
    }
   ],
   "source": [
    "def sub_lists(a):\n",
    "    #write your code here\n",
    "    n = 2 ** len(a)\n",
    "    sl = [None]*n\n",
    "    sl[0] = []\n",
    "    for i in range(len(a)-1):\n",
    "        b=[]\n",
    "        b.append(a[i])\n",
    "        print(b)\n",
    "        print(sl)\n",
    "        for j in range(i+1,len(a)):\n",
    "            sl.append(b)\n",
    "            print(b)\n",
    "            print(sl)\n",
    "    print(sl)\n",
    "    pass\n",
    "sub_lists([1, 2])"
   ]
  },
  {
   "cell_type": "markdown",
   "metadata": {},
   "source": [
    "---\n",
    "**Q9) Write two functions, each of which take a list as an argument.  The first function modifies the list by appending the sum of entries of the list passed as an argument. The second function reassigns a new list to the argument passed, where each entry in the new list is one more than the corresponding entry given as an argument. Is the change reflected outside the functions in both cases? Why/Why not?**\n",
    "Note: For reassign_list(a), you have to reassign a new list to the argument, and not change the existing list."
   ]
  },
  {
   "cell_type": "code",
   "execution_count": null,
   "metadata": {
    "collapsed": true
   },
   "outputs": [],
   "source": [
    "def modify_list(a):\n",
    "    #write your code here\n",
    "    sum = 0\n",
    "    for i in range(len(a)):\n",
    "        sum += a[i]\n",
    "    a.append(sum)\n",
    "    pass\n",
    "\n",
    "def reassign_list(a):\n",
    "    #write your code here\n",
    "    for i in range(len(a)):\n",
    "        a[i] = a[i] + 1\n",
    "    pass\n",
    "a = [1, 2, 3]\n",
    "modify_list(a)\n",
    "print(a)\n",
    "\n",
    "a = [1, 2, 3]\n",
    "reassign_list(a)\n",
    "print(a)"
   ]
  },
  {
   "cell_type": "markdown",
   "metadata": {},
   "source": [
    "---\n",
    "**Q10) Given a string, return a dictionary consisting of each character in the string and the position at which it occurs. (Positions are to be taken as keys, and position numbering starts from 1)**\n",
    "\n",
    "For e.g.)\n",
    "\n",
    "```\n",
    ">>> a = 'Machine Learning'\n",
    ">>> char_position(a)\n",
    "{1: 'M', 2: 'a', 3: 'c', 4: 'h', 5: 'i', 6: 'n', 7: 'e', 9: 'L', 10: 'e', 11: 'a', 12: 'r', 13: 'n', 14: 'i', 15: 'n', 16: 'g'}\n",
    "```"
   ]
  },
  {
   "cell_type": "code",
   "execution_count": null,
   "metadata": {
    "collapsed": true
   },
   "outputs": [],
   "source": [
    "def char_position(a):\n",
    "    #write your code here\n",
    "    dictt={}\n",
    "    for i in range(len(a)):\n",
    "        dictt[i+1] = a[i]\n",
    "    print(dictt)\n",
    "    pass\n",
    "char_position('Machine Learning')"
   ]
  },
  {
   "cell_type": "markdown",
   "metadata": {},
   "source": [
    "---\n",
    "\n",
    "**Q11) Given a string, arrange the characters in increasing order of their frequency at which they appear(Ignore any whitespaces)**\n",
    "\n",
    "For e.g.:\n",
    "```\n",
    ">>> a = 'ifadhaiusbdufbugfsdbfubgsidf'\n",
    ">>> sort_by_freq(a)\n",
    "'haaggiiisssdddduuuubbbbfffff'\n",
    "```"
   ]
  },
  {
   "cell_type": "code",
   "execution_count": null,
   "metadata": {
    "collapsed": true
   },
   "outputs": [],
   "source": [
    "def sort_by_freq(a):\n",
    "    #write your code here\n",
    "    \"\"\"a = list(a)\n",
    "    l=[]\n",
    "    n=[]\n",
    "    for i in range(len(a)):\n",
    "        l =[]\n",
    "        if i<len(a):\n",
    "            #print(i, len(a))\n",
    "            l.append(a[i])\n",
    "            temp = a[i]\n",
    "            for j in range(i+1,len(a)):\n",
    "                #print(i,j,len(a))\n",
    "                if j<len(a):\n",
    "                    if temp == a[j]:\n",
    "                        l.append(a[j])\n",
    "                        #print(a[i],a[j], l)\n",
    "                        a.remove(a[j])\n",
    "                else:\n",
    "                    break\n",
    "        else:\n",
    "            break\n",
    "        n.append(l)\n",
    "        #print(l)\n",
    "        a.remove(a[i])\n",
    "        \n",
    "    print(n)\"\"\"\n",
    "    a = list(a)\n",
    "    n=[]\n",
    "    count=0\n",
    "    dictt = {}\n",
    "    c=[]\n",
    "    for i in range(len(a)):\n",
    "        count = 0\n",
    "        for j in range(len(a)):\n",
    "            if a[i] not  in n:\n",
    "                if a[i] == a[j]:\n",
    "                    count +=1\n",
    "        #print(count, a[i], n)\n",
    "        if count>0:\n",
    "            dictt[a[i]] = count\n",
    "        for k in range(count):\n",
    "            n.append(a[i])\n",
    "    mini = 0\n",
    "    for n in range(len(dictt)):\n",
    "        c.append(dictt[n])\n",
    "    for l in range(len(c)):\n",
    "        for o in range(len(c)-1):\n",
    "            if mini>temp:\n",
    "                dictt[l+1] = mini\n",
    "            else:\n",
    "                dict[l] = mini\n",
    "                print(mini*dictt[mini])\n",
    "            \n",
    "        \n",
    "    print(n)\n",
    "    print(dictt)\n",
    "    \n",
    "    pass\n",
    "sort_by_freq('ifadhaiusbdufbugfsdbfubgsidf')"
   ]
  },
  {
   "cell_type": "markdown",
   "metadata": {},
   "source": [
    "---\n",
    "---\n",
    "**Q12)**\n",
    "\n",
    "**A) Create a file called myfile.txt**\n",
    "\n",
    "**B) Enter some a random paragraph into the file.**\n",
    "\n",
    "**C) Take an integer input n from the user. Create a file with the name as the nth word in myfile.txt.(Assume that n is less than the number of words in your file.)**\n",
    "\n",
    "**D) Enter the paragraph from myfile.txt into your new file, in reverse order. \n",
    "Note: In part (D) only the order of the words should change, the words are not reversed in themselves.**"
   ]
  }
 ],
 "metadata": {
  "kernelspec": {
   "display_name": "Python 3",
   "language": "python",
   "name": "python3"
  },
  "language_info": {
   "codemirror_mode": {
    "name": "ipython",
    "version": 3
   },
   "file_extension": ".py",
   "mimetype": "text/x-python",
   "name": "python",
   "nbconvert_exporter": "python",
   "pygments_lexer": "ipython3",
   "version": "3.6.2"
  }
 },
 "nbformat": 4,
 "nbformat_minor": 2
}
