{
 "cells": [
  {
   "cell_type": "markdown",
   "metadata": {},
   "source": [
    "Numpy exercise\n",
    "===\n",
    "\n",
    "This exercise is designed to get you familiarised with numpy and shows the most common operations that you will perform in the future.\n",
    "\n",
    "You will need the Iris.csv file from the GitHub repositry to perform this exercise.\n",
    "\n",
    "Write your code in the following way:\n",
    "#################################<br>\n",
    "\n",
    "Your code here\n",
    "#################################"
   ]
  },
  {
   "cell_type": "code",
   "execution_count": 2,
   "metadata": {
    "collapsed": true
   },
   "outputs": [],
   "source": [
    "import numpy as np"
   ]
  },
  {
   "cell_type": "code",
   "execution_count": 9,
   "metadata": {},
   "outputs": [
    {
     "name": "stdout",
     "output_type": "stream",
     "text": [
      "[ 0  1  2  3  4  5  6  7  8  9 10 11 12 13 14 15]\n",
      "[[ 0  1  2  3]\n",
      " [ 4  5  6  7]\n",
      " [ 8  9 10 11]\n",
      " [12 13 14 15]]\n"
     ]
    }
   ],
   "source": [
    "A=np.arange(16)   #This creates a vector with values from 0 to 15.\n",
    "print(A)\n",
    "\n",
    "#Reshape A into a 4x4 numpy array and print the array\n",
    "#################################\n",
    "A = A.reshape((4,4))\n",
    "print(A)\n",
    "#################################"
   ]
  },
  {
   "cell_type": "markdown",
   "metadata": {},
   "source": [
    "Expected output:<br>\n",
    "[[ 0  1  2  3]\n",
    " [ 4  5  6  7]\n",
    " [ 8  9 10 11]\n",
    " [12 13 14 15]]"
   ]
  },
  {
   "cell_type": "code",
   "execution_count": 11,
   "metadata": {
    "scrolled": true
   },
   "outputs": [
    {
     "name": "stdout",
     "output_type": "stream",
     "text": [
      "[[  0   1   4   9]\n",
      " [ 16  25  36  49]\n",
      " [ 64  81 100 121]\n",
      " [144 169 196 225]]\n"
     ]
    }
   ],
   "source": [
    "#Create another array B which is made of square of each elements of B and print B.\n",
    "#################################\n",
    "B = A**2\n",
    "print(A)\n",
    "#################################"
   ]
  },
  {
   "cell_type": "markdown",
   "metadata": {},
   "source": [
    "Expected output:<br>\n",
    "[[  0   1   4   9]\n",
    " [ 16  25  36  49]\n",
    " [ 64  81 100 121]\n",
    " [144 169 196 225]]\n"
   ]
  },
  {
   "cell_type": "code",
   "execution_count": 23,
   "metadata": {},
   "outputs": [
    {
     "name": "stdout",
     "output_type": "stream",
     "text": [
      "[[ 0.01345932  0.00148281 -0.00855355 ...,  0.01175962  0.02052337\n",
      "  -0.00090683]\n",
      " [ 0.0117316   0.00343813  0.00241286 ...,  0.01073986  0.0049817\n",
      "  -0.00116953]\n",
      " [ 0.0071013  -0.00271119  0.010471   ...,  0.00526494  0.00251226\n",
      "   0.00852122]\n",
      " ..., \n",
      " [ 0.01229335  0.00048914 -0.00154502 ..., -0.01289011  0.01577354\n",
      "   0.00114057]\n",
      " [-0.00084359  0.01419987  0.00565947 ...,  0.0007715   0.00347778\n",
      "  -0.00896613]\n",
      " [ 0.01253537 -0.00995752 -0.0001247  ...,  0.01106872  0.00690227\n",
      "  -0.00057011]]\n"
     ]
    }
   ],
   "source": [
    "#Create a numpy array of shape (28,28) whose values are chosen randomly from 0-255\n",
    "#################################\n",
    "x = np.random.randint(255, size = 28*28).reshape((28,28))\n",
    "#print(x)\n",
    "#################################\n",
    "\n",
    "#Convert x into a vector (Make it of single dimension)\n",
    "#################################\n",
    "x = x.reshape((28*28,1))\n",
    "#print(x)\n",
    "#################################\n",
    "\n",
    "#Add the number 1 at the start of x\n",
    "# e.g.: If x is [3,2,5,7,5,...], new x should be [1,3,2,5,7,5,...]\n",
    "#################################\n",
    "x= np.insert(x,0,1,axis=0)\n",
    "#print(x)\n",
    "#################################\n",
    "\n",
    "#Create  vector W of shape (785,10) whose values follow a normal distribution with mean=0 and standard dev=0.01\n",
    "#################################\n",
    "W = 0.01*np.random.randn(785,10)+0\n",
    "#print(W)\n",
    "#################################\n",
    "\n",
    "#Multiply the 2 matrices W and x. (Keep in mind the shape of the two)\n",
    "#################################\n",
    "Z = W * x\n",
    "print(W)\n",
    "#################################"
   ]
  },
  {
   "cell_type": "code",
   "execution_count": 42,
   "metadata": {},
   "outputs": [
    {
     "name": "stderr",
     "output_type": "stream",
     "text": [
      "/home/mohitvijayv/anaconda3/lib/python3.6/site-packages/ipykernel_launcher.py:3: ConversionWarning: Some errors were detected !\n",
      "    Line #25 (got 3 columns instead of 1)\n",
      "    Line #66 (got 5 columns instead of 1)\n",
      "    Line #116 (got 3 columns instead of 1)\n",
      "    Line #126 (got 3 columns instead of 1)\n",
      "    Line #130 (got 3 columns instead of 1)\n",
      "    Line #135 (got 3 columns instead of 1)\n",
      "    Line #140 (got 3 columns instead of 1)\n",
      "    Line #144 (got 3 columns instead of 1)\n",
      "    Line #159 (got 2 columns instead of 1)\n",
      "    Line #177 (got 3 columns instead of 1)\n",
      "    Line #179 (got 3 columns instead of 1)\n",
      "    Line #1692 (got 2 columns instead of 1)\n",
      "    Line #1693 (got 3 columns instead of 1)\n",
      "    Line #1694 (got 3 columns instead of 1)\n",
      "    Line #1695 (got 3 columns instead of 1)\n",
      "    Line #1696 (got 3 columns instead of 1)\n",
      "    Line #1697 (got 3 columns instead of 1)\n",
      "    Line #1704 (got 3 columns instead of 1)\n",
      "    Line #1705 (got 3 columns instead of 1)\n",
      "    Line #1706 (got 3 columns instead of 1)\n",
      "    Line #1707 (got 3 columns instead of 1)\n",
      "    Line #1708 (got 3 columns instead of 1)\n",
      "    Line #1709 (got 3 columns instead of 1)\n",
      "  This is separate from the ipykernel package so we can avoid doing imports until\n"
     ]
    }
   ],
   "source": [
    "#Load the Iris.csv file into numpy array 'data' and shuffle the data.(The data array should contain rows in random order)\n",
    "#################################\n",
    "data = np.genfromtxt('/home/mohitvijayv/Desktop/QSTP-ML-master/python-assn/assn-02/Iris.csv', delimiter=',', invalid_raise = False)\n",
    "#print(data)\n",
    "#data = np.random.shuffle(data)\n",
    "#################################\n",
    "#dataset = genfromtxt(open('iris.csv','r'), delimiter='',\"\",invalid_raise = False)\n",
    "\n",
    "#Create a numpy array X that contains the firts 4 columns of data. Keep the last column of data in numpy array y.\n",
    "#################################\n",
    "#X = np.array(data(:, 0:4))\n",
    "#y = np.array(data(:, 4))\n",
    "#################################"
   ]
  },
  {
   "cell_type": "code",
   "execution_count": null,
   "metadata": {
    "collapsed": true
   },
   "outputs": [],
   "source": [
    "# Print the following:\n",
    "# 1) First 10 values of data\n",
    "# 2) Last 10 values of data\n",
    "# 3) All rows of X whose corresponding value in y is 2\n",
    "\n",
    "#################################\n",
    "print(np.array(data(0:10, :)))\n",
    "print(np.array(data(-10:, :)))\n",
    "for i in range(len(y)):\n",
    "    if y[i] == 2:\n",
    "        print(np.array(X(i, :)))\n",
    "#################################"
   ]
  },
  {
   "cell_type": "code",
   "execution_count": 36,
   "metadata": {},
   "outputs": [
    {
     "name": "stdout",
     "output_type": "stream",
     "text": [
      "(16,)\n"
     ]
    }
   ],
   "source": [
    "# Create a numpy array y1 of same length as y and number of columns 3.\n",
    "length = y.shape\n",
    "y1 = np.array\n",
    "# Values of y1 are such that,\n",
    "# If y contains 0, y1 should have (1,0,0)\n",
    "# If y contains 1, y1 should have (0,1,0)\n",
    "# If y contains 2, y1 should have (0,0,1)\n",
    "# This type of encoding is known as one-hot encoding"
   ]
  }
 ],
 "metadata": {
  "kernelspec": {
   "display_name": "Python 3",
   "language": "python",
   "name": "python3"
  },
  "language_info": {
   "codemirror_mode": {
    "name": "ipython",
    "version": 3
   },
   "file_extension": ".py",
   "mimetype": "text/x-python",
   "name": "python",
   "nbconvert_exporter": "python",
   "pygments_lexer": "ipython3",
   "version": "3.6.2"
  }
 },
 "nbformat": 4,
 "nbformat_minor": 2
}
